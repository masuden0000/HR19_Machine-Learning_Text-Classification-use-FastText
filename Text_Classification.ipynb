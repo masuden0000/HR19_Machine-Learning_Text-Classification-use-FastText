{
  "nbformat": 4,
  "nbformat_minor": 0,
  "metadata": {
    "colab": {
      "provenance": []
    },
    "kernelspec": {
      "name": "python3",
      "display_name": "Python 3"
    },
    "language_info": {
      "name": "python"
    }
  },
  "cells": [
    {
      "cell_type": "markdown",
      "source": [
        "####Import Library\n",
        "Please to run the code:\n",
        "1. !pip install fasttext\n",
        "2. nltk.download('all') *after import nltk*"
      ],
      "metadata": {
        "id": "z_a6q3gDM7AM"
      }
    },
    {
      "cell_type": "code",
      "source": [
        "import pandas as pd\n",
        "import nltk\n",
        "import re\n",
        "import seaborn as sns\n",
        "import matplotlib.pyplot as plt\n",
        "import fasttext\n",
        "\n",
        "from sklearn import metrics\n",
        "from sklearn.metrics import confusion_matrix, ConfusionMatrixDisplay\n",
        "from sklearn.model_selection import train_test_split\n",
        "from nltk.corpus import stopwords\n",
        "from sklearn.metrics import roc_auc_score"
      ],
      "metadata": {
        "id": "FLADIiRUJQp9"
      },
      "execution_count": 2,
      "outputs": []
    },
    {
      "cell_type": "markdown",
      "source": [
        "####Check Data"
      ],
      "metadata": {
        "id": "Usi2hmZwM_k_"
      }
    },
    {
      "cell_type": "code",
      "execution_count": 4,
      "metadata": {
        "colab": {
          "base_uri": "https://localhost:8080/",
          "height": 143
        },
        "id": "6i_fwrYoIVeQ",
        "outputId": "41aa0c7c-e2f0-497c-d972-7b1ff16e6648"
      },
      "outputs": [
        {
          "output_type": "execute_result",
          "data": {
            "text/plain": [
              "                                          clean_text  is_depression\n",
              "0  we understand that most people who reply immed...              1\n",
              "1  welcome to r depression s check in post a plac...              1\n",
              "2  anyone else instead of sleeping more when depr...              1"
            ],
            "text/html": [
              "\n",
              "  <div id=\"df-c0c1a5a4-6bc9-487f-9d98-11c0d499ec78\" class=\"colab-df-container\">\n",
              "    <div>\n",
              "<style scoped>\n",
              "    .dataframe tbody tr th:only-of-type {\n",
              "        vertical-align: middle;\n",
              "    }\n",
              "\n",
              "    .dataframe tbody tr th {\n",
              "        vertical-align: top;\n",
              "    }\n",
              "\n",
              "    .dataframe thead th {\n",
              "        text-align: right;\n",
              "    }\n",
              "</style>\n",
              "<table border=\"1\" class=\"dataframe\">\n",
              "  <thead>\n",
              "    <tr style=\"text-align: right;\">\n",
              "      <th></th>\n",
              "      <th>clean_text</th>\n",
              "      <th>is_depression</th>\n",
              "    </tr>\n",
              "  </thead>\n",
              "  <tbody>\n",
              "    <tr>\n",
              "      <th>0</th>\n",
              "      <td>we understand that most people who reply immed...</td>\n",
              "      <td>1</td>\n",
              "    </tr>\n",
              "    <tr>\n",
              "      <th>1</th>\n",
              "      <td>welcome to r depression s check in post a plac...</td>\n",
              "      <td>1</td>\n",
              "    </tr>\n",
              "    <tr>\n",
              "      <th>2</th>\n",
              "      <td>anyone else instead of sleeping more when depr...</td>\n",
              "      <td>1</td>\n",
              "    </tr>\n",
              "  </tbody>\n",
              "</table>\n",
              "</div>\n",
              "    <div class=\"colab-df-buttons\">\n",
              "\n",
              "  <div class=\"colab-df-container\">\n",
              "    <button class=\"colab-df-convert\" onclick=\"convertToInteractive('df-c0c1a5a4-6bc9-487f-9d98-11c0d499ec78')\"\n",
              "            title=\"Convert this dataframe to an interactive table.\"\n",
              "            style=\"display:none;\">\n",
              "\n",
              "  <svg xmlns=\"http://www.w3.org/2000/svg\" height=\"24px\" viewBox=\"0 -960 960 960\">\n",
              "    <path d=\"M120-120v-720h720v720H120Zm60-500h600v-160H180v160Zm220 220h160v-160H400v160Zm0 220h160v-160H400v160ZM180-400h160v-160H180v160Zm440 0h160v-160H620v160ZM180-180h160v-160H180v160Zm440 0h160v-160H620v160Z\"/>\n",
              "  </svg>\n",
              "    </button>\n",
              "\n",
              "  <style>\n",
              "    .colab-df-container {\n",
              "      display:flex;\n",
              "      gap: 12px;\n",
              "    }\n",
              "\n",
              "    .colab-df-convert {\n",
              "      background-color: #E8F0FE;\n",
              "      border: none;\n",
              "      border-radius: 50%;\n",
              "      cursor: pointer;\n",
              "      display: none;\n",
              "      fill: #1967D2;\n",
              "      height: 32px;\n",
              "      padding: 0 0 0 0;\n",
              "      width: 32px;\n",
              "    }\n",
              "\n",
              "    .colab-df-convert:hover {\n",
              "      background-color: #E2EBFA;\n",
              "      box-shadow: 0px 1px 2px rgba(60, 64, 67, 0.3), 0px 1px 3px 1px rgba(60, 64, 67, 0.15);\n",
              "      fill: #174EA6;\n",
              "    }\n",
              "\n",
              "    .colab-df-buttons div {\n",
              "      margin-bottom: 4px;\n",
              "    }\n",
              "\n",
              "    [theme=dark] .colab-df-convert {\n",
              "      background-color: #3B4455;\n",
              "      fill: #D2E3FC;\n",
              "    }\n",
              "\n",
              "    [theme=dark] .colab-df-convert:hover {\n",
              "      background-color: #434B5C;\n",
              "      box-shadow: 0px 1px 3px 1px rgba(0, 0, 0, 0.15);\n",
              "      filter: drop-shadow(0px 1px 2px rgba(0, 0, 0, 0.3));\n",
              "      fill: #FFFFFF;\n",
              "    }\n",
              "  </style>\n",
              "\n",
              "    <script>\n",
              "      const buttonEl =\n",
              "        document.querySelector('#df-c0c1a5a4-6bc9-487f-9d98-11c0d499ec78 button.colab-df-convert');\n",
              "      buttonEl.style.display =\n",
              "        google.colab.kernel.accessAllowed ? 'block' : 'none';\n",
              "\n",
              "      async function convertToInteractive(key) {\n",
              "        const element = document.querySelector('#df-c0c1a5a4-6bc9-487f-9d98-11c0d499ec78');\n",
              "        const dataTable =\n",
              "          await google.colab.kernel.invokeFunction('convertToInteractive',\n",
              "                                                    [key], {});\n",
              "        if (!dataTable) return;\n",
              "\n",
              "        const docLinkHtml = 'Like what you see? Visit the ' +\n",
              "          '<a target=\"_blank\" href=https://colab.research.google.com/notebooks/data_table.ipynb>data table notebook</a>'\n",
              "          + ' to learn more about interactive tables.';\n",
              "        element.innerHTML = '';\n",
              "        dataTable['output_type'] = 'display_data';\n",
              "        await google.colab.output.renderOutput(dataTable, element);\n",
              "        const docLink = document.createElement('div');\n",
              "        docLink.innerHTML = docLinkHtml;\n",
              "        element.appendChild(docLink);\n",
              "      }\n",
              "    </script>\n",
              "  </div>\n",
              "\n",
              "\n",
              "<div id=\"df-09ed938c-46a8-42b6-8d91-72970a681015\">\n",
              "  <button class=\"colab-df-quickchart\" onclick=\"quickchart('df-09ed938c-46a8-42b6-8d91-72970a681015')\"\n",
              "            title=\"Suggest charts\"\n",
              "            style=\"display:none;\">\n",
              "\n",
              "<svg xmlns=\"http://www.w3.org/2000/svg\" height=\"24px\"viewBox=\"0 0 24 24\"\n",
              "     width=\"24px\">\n",
              "    <g>\n",
              "        <path d=\"M19 3H5c-1.1 0-2 .9-2 2v14c0 1.1.9 2 2 2h14c1.1 0 2-.9 2-2V5c0-1.1-.9-2-2-2zM9 17H7v-7h2v7zm4 0h-2V7h2v10zm4 0h-2v-4h2v4z\"/>\n",
              "    </g>\n",
              "</svg>\n",
              "  </button>\n",
              "\n",
              "<style>\n",
              "  .colab-df-quickchart {\n",
              "      --bg-color: #E8F0FE;\n",
              "      --fill-color: #1967D2;\n",
              "      --hover-bg-color: #E2EBFA;\n",
              "      --hover-fill-color: #174EA6;\n",
              "      --disabled-fill-color: #AAA;\n",
              "      --disabled-bg-color: #DDD;\n",
              "  }\n",
              "\n",
              "  [theme=dark] .colab-df-quickchart {\n",
              "      --bg-color: #3B4455;\n",
              "      --fill-color: #D2E3FC;\n",
              "      --hover-bg-color: #434B5C;\n",
              "      --hover-fill-color: #FFFFFF;\n",
              "      --disabled-bg-color: #3B4455;\n",
              "      --disabled-fill-color: #666;\n",
              "  }\n",
              "\n",
              "  .colab-df-quickchart {\n",
              "    background-color: var(--bg-color);\n",
              "    border: none;\n",
              "    border-radius: 50%;\n",
              "    cursor: pointer;\n",
              "    display: none;\n",
              "    fill: var(--fill-color);\n",
              "    height: 32px;\n",
              "    padding: 0;\n",
              "    width: 32px;\n",
              "  }\n",
              "\n",
              "  .colab-df-quickchart:hover {\n",
              "    background-color: var(--hover-bg-color);\n",
              "    box-shadow: 0 1px 2px rgba(60, 64, 67, 0.3), 0 1px 3px 1px rgba(60, 64, 67, 0.15);\n",
              "    fill: var(--button-hover-fill-color);\n",
              "  }\n",
              "\n",
              "  .colab-df-quickchart-complete:disabled,\n",
              "  .colab-df-quickchart-complete:disabled:hover {\n",
              "    background-color: var(--disabled-bg-color);\n",
              "    fill: var(--disabled-fill-color);\n",
              "    box-shadow: none;\n",
              "  }\n",
              "\n",
              "  .colab-df-spinner {\n",
              "    border: 2px solid var(--fill-color);\n",
              "    border-color: transparent;\n",
              "    border-bottom-color: var(--fill-color);\n",
              "    animation:\n",
              "      spin 1s steps(1) infinite;\n",
              "  }\n",
              "\n",
              "  @keyframes spin {\n",
              "    0% {\n",
              "      border-color: transparent;\n",
              "      border-bottom-color: var(--fill-color);\n",
              "      border-left-color: var(--fill-color);\n",
              "    }\n",
              "    20% {\n",
              "      border-color: transparent;\n",
              "      border-left-color: var(--fill-color);\n",
              "      border-top-color: var(--fill-color);\n",
              "    }\n",
              "    30% {\n",
              "      border-color: transparent;\n",
              "      border-left-color: var(--fill-color);\n",
              "      border-top-color: var(--fill-color);\n",
              "      border-right-color: var(--fill-color);\n",
              "    }\n",
              "    40% {\n",
              "      border-color: transparent;\n",
              "      border-right-color: var(--fill-color);\n",
              "      border-top-color: var(--fill-color);\n",
              "    }\n",
              "    60% {\n",
              "      border-color: transparent;\n",
              "      border-right-color: var(--fill-color);\n",
              "    }\n",
              "    80% {\n",
              "      border-color: transparent;\n",
              "      border-right-color: var(--fill-color);\n",
              "      border-bottom-color: var(--fill-color);\n",
              "    }\n",
              "    90% {\n",
              "      border-color: transparent;\n",
              "      border-bottom-color: var(--fill-color);\n",
              "    }\n",
              "  }\n",
              "</style>\n",
              "\n",
              "  <script>\n",
              "    async function quickchart(key) {\n",
              "      const quickchartButtonEl =\n",
              "        document.querySelector('#' + key + ' button');\n",
              "      quickchartButtonEl.disabled = true;  // To prevent multiple clicks.\n",
              "      quickchartButtonEl.classList.add('colab-df-spinner');\n",
              "      try {\n",
              "        const charts = await google.colab.kernel.invokeFunction(\n",
              "            'suggestCharts', [key], {});\n",
              "      } catch (error) {\n",
              "        console.error('Error during call to suggestCharts:', error);\n",
              "      }\n",
              "      quickchartButtonEl.classList.remove('colab-df-spinner');\n",
              "      quickchartButtonEl.classList.add('colab-df-quickchart-complete');\n",
              "    }\n",
              "    (() => {\n",
              "      let quickchartButtonEl =\n",
              "        document.querySelector('#df-09ed938c-46a8-42b6-8d91-72970a681015 button');\n",
              "      quickchartButtonEl.style.display =\n",
              "        google.colab.kernel.accessAllowed ? 'block' : 'none';\n",
              "    })();\n",
              "  </script>\n",
              "</div>\n",
              "\n",
              "    </div>\n",
              "  </div>\n"
            ],
            "application/vnd.google.colaboratory.intrinsic+json": {
              "type": "dataframe",
              "variable_name": "df",
              "summary": "{\n  \"name\": \"df\",\n  \"rows\": 7731,\n  \"fields\": [\n    {\n      \"column\": \"clean_text\",\n      \"properties\": {\n        \"dtype\": \"string\",\n        \"num_unique_values\": 7650,\n        \"samples\": [\n          \"this is a long story i m sorry me and my ex broke up year ago but we remained friend but i still loved her and still do to this day after month she stopped talking to me because of this when we were together i never lied to her well i only lied about thing and it s about why i tried km when i wa to this day no one know the real reason maybe my friend bc i almost slipped about it i treated her like a queen we lived 0 hour away from each other and i saved up k to go see her when we were together for gas and my dad stayed at a hotel i wa at the time every anniversary i wrote a very long paragraph maybe on why i love her and how beautiful she is at st it wa every sunday of the week we started dating on sunday then the 9th of every month we lasted 0 month together each paragraph wa different and never said the same thing i did this to help make her feel better about herself because she wa ashamed of her body and i could tell she wa depressed i wanted her to be happy i bought her a lot of gift and always asked how her day went btw i m very poor and at the time i mowed lawn to make money 0 a week during spring and summer i m allergic to grass and been doing it since i wa we broke up and she told me because she wa gay but we can still be friend i quit my job month after bc of depression we had a discord server that contained her brother and their friend there wa this guy that we always played with and me her her brother and the guy played doki doki at st he wa nice then when they left he wa very mean to me saying thing like she doesn t like you just leave why are you even trying and so on i never said anything because i didn t want to ruin any friend ship i wish i said something instantly we all played overwatch together also well i tried to stop playing with just him and only play with her i said it wa bc of my anxiety but the real reason wa bc of him month later she stopped talking to me because i still loved her this is where and why i might be gone soon warning i m going to say graphic thing plz know i don t want attention i just want my story to be told if i do leave day my phobia is being alone and she helped me forget a terrible memory when i wa the real reason that no one know about i wa scarred i regret doing all of this i made 0 account on insta saying sorry and emailed her sorry also plz know i regret doing all of this and understand i wa in a dark place still doesn t justify my action some time after that i wa dmed on insta to go km and other horrible thing i tried telling her but she looked at the screen shot and just blocked me then it happened again then again i wa being told to go km and other thing for month straight even wa bullied by her bf at the same time i screen shotted what he said to me also in the middle of all this my mom oded and wa in a hospital for a week i had no one to talk to i tried cry out for help to her no response i tried cry out for help about the guy telling me to km for month no response she is the only able to stop him she never really tried the only ppl who tried to get them to stop wa me and my friend he wa the only help i had on christmas and easter i also emailed her saying i hope her and her family is ok because covid wa bad and her family is like family to me i worry and care about them a lot still wa being told to km and messaged by her bf i started cutting month of being told to km i stopped a little while ago since i wa still being told to km and bullied by her bf and no change wa happening i cried for help to her parent i showed them the screen shot of what her bf said to me and told them about the person who we still don t know who told me to km later i got a message from her saying that not only she regret our relationship but she is scarred of me and i have to apologize to my friend who wa helping me through all of this btw i don t have the gut to yell at someone bc i ll have a mental break down bc of past trauma parent always yelled at me and i dont have the gut to hurt anyone mentally or physically unless it s to protect my friend or family i m a very protective person of who i love and like when i read this i wa badly hurt i started doing drug not weed bc the smell make me want to vomit and ill never try it but whippet wa accident but made pain go away so i kept doing it some time later my dad got cancer he s doesn t anymore it got removed right away but while he wa gone i had a bad mental break down and i did a free therapy trail online i forgot the website but i did this with different email so i had session i did it for her bc she always told me to get professional help i got told i might have severe adult separation anxiety i have nightmare every night about losing her still to this day i said a lot more infact i told them everything and they told me that they can t officially diagnose me with it because they wanted to talk to me more but i m poor i can t afford that but i then had no one so i cried for help to her last time i wa scarred her dad texted me to never message he again that night i did a full inhale of whippet and tried to km i had seziure idk how to spell and woke up the next day no one checked in on me i woke up on my floor that wa the last time i ever did that some time later her bf messaged me again it wa a pic of him and her kissing making a heart of their hand he said just give up she doesn t love you and never ha i showed the screen shot to some friend and then deleted it bc it wa painful to look at what am i sopose to do cry for help i can t to this day he message me mocking me but she ll never believe me not only i can t tell her but i don t think she even care i also later found out the real reason why she broke up with me wa bc i wa too clingy not only did my friend tell me this her bf did also everyone who i told this story to tell me she cheated on me that there s no way someone would let this happen if they cared about me after i treated her with respect like that during our relationship i don t think she cheated on me she would never do that i tried going out with other girl but i cant bc it feel like i m cheating on her even tho we re not dating it feel wrong i still love her and i always will even tho she never asked if i wa ok when i wa being told to km which hurt badly i still love her the only reason i m alive is because of my hope a nd chance with her but it s dying and i want to die b my hope dy or i m going to die when my hope dy which mean i ll have no happiness left the st time i felt happiness wa when she said yes to going out i cried that night bc i never felt that b bc of childhood i just want her to at least ask if i m ok just to prove my thought wrong to prove that she still care to keep me going i love you and i always will if you some how see this i know you re tired of seeing this but i m sorry plz know if i do lose the battle i lasted this long for you i hope you re proud of me and if you do message me i might come out about the real reason why i can t let go and for whoever read this long thank you i hope you have a great life be safe idk if i typed this but i haven t done drug in a year won t be on this account a lot only to vent it s a alt account i m just trying to get help even tho the only help that will help me is her saying anything nice to me idk when but when my limit is reached bc of her bf and friend and all the past crap they said to me i plan on going 00mph to a pole i already know where i m going to do it it s not like she care anyways i get told to go km for month and bullied to this day and not once ask if i m ok i doubt she ll be sad my thought are telling me she ll be happier if i m dead i get harassed i get yelled at for cry for help i get told to km i get yelled at for cry for help\",\n          \"just getting home it snowing\",\n          \"i want to kill myself but i dont want to die i got my result and i barely passed when my dad get to know he s gon na hit me im really scared i tried my best i really did but i cant focus i dont want to die please tell me to kill myself\"\n        ],\n        \"semantic_type\": \"\",\n        \"description\": \"\"\n      }\n    },\n    {\n      \"column\": \"is_depression\",\n      \"properties\": {\n        \"dtype\": \"number\",\n        \"std\": 0,\n        \"min\": 0,\n        \"max\": 1,\n        \"num_unique_values\": 2,\n        \"samples\": [\n          0,\n          1\n        ],\n        \"semantic_type\": \"\",\n        \"description\": \"\"\n      }\n    }\n  ]\n}"
            }
          },
          "metadata": {},
          "execution_count": 4
        }
      ],
      "source": [
        "df = pd.read_csv('https://drive.google.com/uc?id=1ogkVzRs9HptE5nY1dyiQUnB4DsBlFswS')\n",
        "df.head(3)"
      ]
    },
    {
      "cell_type": "code",
      "source": [
        "print(f'Dimension of data: \\n{df.shape}\\n')\n",
        "print(f'Number of null status in data: \\n{df.isna().sum()}\\n')\n",
        "\n",
        "ax = df['is_depression'].value_counts().plot.bar()\n",
        "ax.set_ylabel('Count')\n",
        "\n",
        "print('Values count')\n",
        "for p in ax.patches:\n",
        "    width = p.get_width()\n",
        "    height = p.get_height()\n",
        "    x, y = p.get_xy()\n",
        "    ax.annotate(f'{height:.0f}', (x + width/2, y + height/2), ha='center', va='center')"
      ],
      "metadata": {
        "colab": {
          "base_uri": "https://localhost:8080/",
          "height": 600
        },
        "id": "NKJwiHRZMv_n",
        "outputId": "874613f0-db2a-486e-aa3a-2aa668895c22"
      },
      "execution_count": 5,
      "outputs": [
        {
          "output_type": "stream",
          "name": "stdout",
          "text": [
            "Dimension of data: \n",
            "(7731, 2)\n",
            "\n",
            "Number of null status in data: \n",
            "clean_text       0\n",
            "is_depression    0\n",
            "dtype: int64\n",
            "\n",
            "Values count\n"
          ]
        },
        {
          "output_type": "display_data",
          "data": {
            "text/plain": [
              "<Figure size 640x480 with 1 Axes>"
            ],
            "image/png": "[encoded data removed]"
          },
          "metadata": {}
        }
      ]
    },
    {
      "cell_type": "markdown",
      "source": [
        "####Data Preprocessing"
      ],
      "metadata": {
        "id": "ZslzmfamRVep"
      }
    },
    {
      "cell_type": "code",
      "source": [
        "corpus = []\n",
        "\n",
        "def clean_text(text):\n",
        "     text = text.lower()\n",
        "     text = re.sub(r'[^a-zA-Z0-9 \\s]', '', text)\n",
        "     text = re.sub(r'\\s+', ' ', text)\n",
        "     return text\n",
        "\n",
        "for i, text in enumerate(df['clean_text']):\n",
        "    r = clean_text(text)\n",
        "    r = r.split()\n",
        "    r = [word for word in r if word not in stopwords.words('english')]\n",
        "    r = ' '.join(r)\n",
        "    corpus.append(r)\n",
        "\n",
        "df['clean_text'] =corpus"
      ],
      "metadata": {
        "id": "Adqg6PWLRVE7"
      },
      "execution_count": 6,
      "outputs": []
    },
    {
      "cell_type": "code",
      "source": [
        "df = df.drop_duplicates(subset='clean_text', keep='first')\n",
        "\n",
        "drop_indices = []\n",
        "\n",
        "for i, text in enumerate(df['clean_text']):\n",
        "    if len(text.split()) == 1 and len(text.split()[0]) < 10:\n",
        "        drop_indices.append(i)\n",
        "\n",
        "df = df.drop(index=drop_indices)\n",
        "df = df.reset_index(drop=True)"
      ],
      "metadata": {
        "id": "sjcw-N20mH3z"
      },
      "execution_count": 7,
      "outputs": []
    },
    {
      "cell_type": "code",
      "source": [
        "df['is_depression'] = \"__label__\" + df['is_depression'].astype(str)\n",
        "df['text_label'] = df['is_depression'] + ' ' + df['clean_text']"
      ],
      "metadata": {
        "id": "6oyoYO5TADC4"
      },
      "execution_count": 8,
      "outputs": []
    },
    {
      "cell_type": "markdown",
      "source": [
        "####Training Model"
      ],
      "metadata": {
        "id": "PGMeg5rrpjbe"
      }
    },
    {
      "cell_type": "code",
      "source": [
        "train, test = train_test_split(df, test_size = 0.2)\n",
        "\n",
        "import os\n",
        "\n",
        "def overwrite_csv(file_name, dataframe, columns):\n",
        "    if os.path.exists(file_name):\n",
        "        os.remove(file_name)\n",
        "\n",
        "    dataframe.to_csv(file_name, columns=columns, index=False, header=False)\n",
        "    print(f\"File {file_name} had been changed by new file\")\n",
        "\n",
        "overwrite_csv(\"train\", train, [\"text_label\"])\n",
        "overwrite_csv(\"test\", test, [\"text_label\"])"
      ],
      "metadata": {
        "colab": {
          "base_uri": "https://localhost:8080/"
        },
        "id": "uXjh3tkNpl9E",
        "outputId": "4a4f7ee0-c503-437f-ea68-4743cb821ffc"
      },
      "execution_count": 9,
      "outputs": [
        {
          "output_type": "stream",
          "name": "stdout",
          "text": [
            "File train had been changed by new file\n",
            "File test had been changed by new file\n"
          ]
        }
      ]
    },
    {
      "cell_type": "code",
      "source": [
        "import time\n",
        "\n",
        "# Waiting time for the file create/re-create\n",
        "time.sleep(7)"
      ],
      "metadata": {
        "id": "Xw-zGNbD0dtk"
      },
      "execution_count": 10,
      "outputs": []
    },
    {
      "cell_type": "code",
      "source": [
        "# Train the model\n",
        "model = fasttext.train_supervised('train')\n",
        "\n",
        "# Function to display training results\n",
        "def print_results(sample_size, precision, recall):\n",
        "    print(f\"Sample size: {sample_size}\")\n",
        "    print(f\"Precision  : {round(precision, 2)}\")\n",
        "    print(f\"Recall     : {round(recall, 2)}\")\n",
        "\n",
        "# Apply the function to test results\n",
        "print_results(*model.test('test'))"
      ],
      "metadata": {
        "colab": {
          "base_uri": "https://localhost:8080/"
        },
        "id": "V_PqRu0ysLu3",
        "outputId": "a0f3c73d-4c65-4927-943a-55d477c3747b"
      },
      "execution_count": 11,
      "outputs": [
        {
          "output_type": "stream",
          "name": "stdout",
          "text": [
            "Sample size: 1515\n",
            "Precision  : 0.96\n",
            "Recall     : 0.96\n"
          ]
        }
      ]
    },
    {
      "cell_type": "code",
      "source": [
        "test_texts = test['clean_text'].tolist()\n",
        "predictions = model.predict(test_texts)\n",
        "predicted_labels = [label[0] for label in predictions[0]]\n",
        "true_labels = test['is_depression'].astype(str).tolist()\n",
        "cm = confusion_matrix(true_labels, predicted_labels, labels=[\"__label__0\", \"__label__1\"])\n",
        "disp = ConfusionMatrixDisplay(confusion_matrix=cm, display_labels=[\"Not Depression\", \"Depression\"])\n",
        "disp.plot(cmap=plt.cm.Blues)\n",
        "plt.title(\"Confusion Matrix\")\n",
        "plt.show()"
      ],
      "metadata": {
        "colab": {
          "base_uri": "https://localhost:8080/",
          "height": 472
        },
        "id": "SAA_lLZGm_pt",
        "outputId": "066aa185-bc36-4dbc-c070-a6b05a534df0"
      },
      "execution_count": 12,
      "outputs": [
        {
          "output_type": "display_data",
          "data": {
            "text/plain": [
              "<Figure size 640x480 with 2 Axes>"
            ],
            "image/png": "[encoded data removed]"
          },
          "metadata": {}
        }
      ]
    },
    {
      "cell_type": "code",
      "source": [
        "def predict_text(text):\n",
        "    if isinstance(text, str):\n",
        "        text = [clean_text(text)]\n",
        "    labels, probabilities = model.predict(text)\n",
        "    print(\"Predicted Label:\", labels[0][0])\n",
        "    print(\"Probability:\", probabilities[0][0])\n",
        "\n",
        "user_input = input(\"Input your text: \")\n",
        "predict_text(user_input)"
      ],
      "metadata": {
        "colab": {
          "base_uri": "https://localhost:8080/"
        },
        "id": "Luyx5TD9tT7E",
        "outputId": "cc158885-5e60-4719-df5b-65c5c0dc25ca"
      },
      "execution_count": 13,
      "outputs": [
        {
          "output_type": "stream",
          "name": "stdout",
          "text": [
            "Input your text: Some days feel like a never-ending loop of \"fuck this\" and \"why even bother\"—and you just keep breathing, pretending it's fine.\n",
            "Predicted Label: __label__1\n",
            "Probability: 0.93609494\n"
          ]
        }
      ]
    }
  ]
}